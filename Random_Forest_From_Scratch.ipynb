{
  "nbformat": 4,
  "nbformat_minor": 0,
  "metadata": {
    "colab": {
      "provenance": []
    },
    "kernelspec": {
      "name": "python3",
      "display_name": "Python 3"
    },
    "language_info": {
      "name": "python"
    }
  },
  "cells": [
    {
      "cell_type": "markdown",
      "source": [
        "# **Building Random Forest Classifier from Scratch**"
      ],
      "metadata": {
        "id": "egRWExlxcPQS"
      }
    },
    {
      "cell_type": "code",
      "execution_count": null,
      "metadata": {
        "colab": {
          "base_uri": "https://localhost:8080/",
          "height": 504
        },
        "id": "8JohIPyncM_O",
        "outputId": "8d3c4a83-e018-4257-d806-f8f82139f76a"
      },
      "outputs": [
        {
          "output_type": "execute_result",
          "data": {
            "text/plain": [
              "   PassengerId  Survived  Pclass  \\\n",
              "0            1         0       3   \n",
              "1            2         1       1   \n",
              "2            3         1       3   \n",
              "3            4         1       1   \n",
              "4            5         0       3   \n",
              "\n",
              "                                                Name     Sex   Age  SibSp  \\\n",
              "0                            Braund, Mr. Owen Harris    male  22.0      1   \n",
              "1  Cumings, Mrs. John Bradley (Florence Briggs Th...  female  38.0      1   \n",
              "2                             Heikkinen, Miss. Laina  female  26.0      0   \n",
              "3       Futrelle, Mrs. Jacques Heath (Lily May Peel)  female  35.0      1   \n",
              "4                           Allen, Mr. William Henry    male  35.0      0   \n",
              "\n",
              "   Parch            Ticket     Fare Cabin Embarked  \n",
              "0      0         A/5 21171   7.2500   NaN        S  \n",
              "1      0          PC 17599  71.2833   C85        C  \n",
              "2      0  STON/O2. 3101282   7.9250   NaN        S  \n",
              "3      0            113803  53.1000  C123        S  \n",
              "4      0            373450   8.0500   NaN        S  "
            ],
            "text/html": [
              "\n",
              "  <div id=\"df-f6ffc186-794a-417b-a79c-914cf46b6914\" class=\"colab-df-container\">\n",
              "    <div>\n",
              "<style scoped>\n",
              "    .dataframe tbody tr th:only-of-type {\n",
              "        vertical-align: middle;\n",
              "    }\n",
              "\n",
              "    .dataframe tbody tr th {\n",
              "        vertical-align: top;\n",
              "    }\n",
              "\n",
              "    .dataframe thead th {\n",
              "        text-align: right;\n",
              "    }\n",
              "</style>\n",
              "<table border=\"1\" class=\"dataframe\">\n",
              "  <thead>\n",
              "    <tr style=\"text-align: right;\">\n",
              "      <th></th>\n",
              "      <th>PassengerId</th>\n",
              "      <th>Survived</th>\n",
              "      <th>Pclass</th>\n",
              "      <th>Name</th>\n",
              "      <th>Sex</th>\n",
              "      <th>Age</th>\n",
              "      <th>SibSp</th>\n",
              "      <th>Parch</th>\n",
              "      <th>Ticket</th>\n",
              "      <th>Fare</th>\n",
              "      <th>Cabin</th>\n",
              "      <th>Embarked</th>\n",
              "    </tr>\n",
              "  </thead>\n",
              "  <tbody>\n",
              "    <tr>\n",
              "      <th>0</th>\n",
              "      <td>1</td>\n",
              "      <td>0</td>\n",
              "      <td>3</td>\n",
              "      <td>Braund, Mr. Owen Harris</td>\n",
              "      <td>male</td>\n",
              "      <td>22.0</td>\n",
              "      <td>1</td>\n",
              "      <td>0</td>\n",
              "      <td>A/5 21171</td>\n",
              "      <td>7.2500</td>\n",
              "      <td>NaN</td>\n",
              "      <td>S</td>\n",
              "    </tr>\n",
              "    <tr>\n",
              "      <th>1</th>\n",
              "      <td>2</td>\n",
              "      <td>1</td>\n",
              "      <td>1</td>\n",
              "      <td>Cumings, Mrs. John Bradley (Florence Briggs Th...</td>\n",
              "      <td>female</td>\n",
              "      <td>38.0</td>\n",
              "      <td>1</td>\n",
              "      <td>0</td>\n",
              "      <td>PC 17599</td>\n",
              "      <td>71.2833</td>\n",
              "      <td>C85</td>\n",
              "      <td>C</td>\n",
              "    </tr>\n",
              "    <tr>\n",
              "      <th>2</th>\n",
              "      <td>3</td>\n",
              "      <td>1</td>\n",
              "      <td>3</td>\n",
              "      <td>Heikkinen, Miss. Laina</td>\n",
              "      <td>female</td>\n",
              "      <td>26.0</td>\n",
              "      <td>0</td>\n",
              "      <td>0</td>\n",
              "      <td>STON/O2. 3101282</td>\n",
              "      <td>7.9250</td>\n",
              "      <td>NaN</td>\n",
              "      <td>S</td>\n",
              "    </tr>\n",
              "    <tr>\n",
              "      <th>3</th>\n",
              "      <td>4</td>\n",
              "      <td>1</td>\n",
              "      <td>1</td>\n",
              "      <td>Futrelle, Mrs. Jacques Heath (Lily May Peel)</td>\n",
              "      <td>female</td>\n",
              "      <td>35.0</td>\n",
              "      <td>1</td>\n",
              "      <td>0</td>\n",
              "      <td>113803</td>\n",
              "      <td>53.1000</td>\n",
              "      <td>C123</td>\n",
              "      <td>S</td>\n",
              "    </tr>\n",
              "    <tr>\n",
              "      <th>4</th>\n",
              "      <td>5</td>\n",
              "      <td>0</td>\n",
              "      <td>3</td>\n",
              "      <td>Allen, Mr. William Henry</td>\n",
              "      <td>male</td>\n",
              "      <td>35.0</td>\n",
              "      <td>0</td>\n",
              "      <td>0</td>\n",
              "      <td>373450</td>\n",
              "      <td>8.0500</td>\n",
              "      <td>NaN</td>\n",
              "      <td>S</td>\n",
              "    </tr>\n",
              "  </tbody>\n",
              "</table>\n",
              "</div>\n",
              "    <div class=\"colab-df-buttons\">\n",
              "\n",
              "  <div class=\"colab-df-container\">\n",
              "    <button class=\"colab-df-convert\" onclick=\"convertToInteractive('df-f6ffc186-794a-417b-a79c-914cf46b6914')\"\n",
              "            title=\"Convert this dataframe to an interactive table.\"\n",
              "            style=\"display:none;\">\n",
              "\n",
              "  <svg xmlns=\"http://www.w3.org/2000/svg\" height=\"24px\" viewBox=\"0 -960 960 960\">\n",
              "    <path d=\"M120-120v-720h720v720H120Zm60-500h600v-160H180v160Zm220 220h160v-160H400v160Zm0 220h160v-160H400v160ZM180-400h160v-160H180v160Zm440 0h160v-160H620v160ZM180-180h160v-160H180v160Zm440 0h160v-160H620v160Z\"/>\n",
              "  </svg>\n",
              "    </button>\n",
              "\n",
              "  <style>\n",
              "    .colab-df-container {\n",
              "      display:flex;\n",
              "      gap: 12px;\n",
              "    }\n",
              "\n",
              "    .colab-df-convert {\n",
              "      background-color: #E8F0FE;\n",
              "      border: none;\n",
              "      border-radius: 50%;\n",
              "      cursor: pointer;\n",
              "      display: none;\n",
              "      fill: #1967D2;\n",
              "      height: 32px;\n",
              "      padding: 0 0 0 0;\n",
              "      width: 32px;\n",
              "    }\n",
              "\n",
              "    .colab-df-convert:hover {\n",
              "      background-color: #E2EBFA;\n",
              "      box-shadow: 0px 1px 2px rgba(60, 64, 67, 0.3), 0px 1px 3px 1px rgba(60, 64, 67, 0.15);\n",
              "      fill: #174EA6;\n",
              "    }\n",
              "\n",
              "    .colab-df-buttons div {\n",
              "      margin-bottom: 4px;\n",
              "    }\n",
              "\n",
              "    [theme=dark] .colab-df-convert {\n",
              "      background-color: #3B4455;\n",
              "      fill: #D2E3FC;\n",
              "    }\n",
              "\n",
              "    [theme=dark] .colab-df-convert:hover {\n",
              "      background-color: #434B5C;\n",
              "      box-shadow: 0px 1px 3px 1px rgba(0, 0, 0, 0.15);\n",
              "      filter: drop-shadow(0px 1px 2px rgba(0, 0, 0, 0.3));\n",
              "      fill: #FFFFFF;\n",
              "    }\n",
              "  </style>\n",
              "\n",
              "    <script>\n",
              "      const buttonEl =\n",
              "        document.querySelector('#df-f6ffc186-794a-417b-a79c-914cf46b6914 button.colab-df-convert');\n",
              "      buttonEl.style.display =\n",
              "        google.colab.kernel.accessAllowed ? 'block' : 'none';\n",
              "\n",
              "      async function convertToInteractive(key) {\n",
              "        const element = document.querySelector('#df-f6ffc186-794a-417b-a79c-914cf46b6914');\n",
              "        const dataTable =\n",
              "          await google.colab.kernel.invokeFunction('convertToInteractive',\n",
              "                                                    [key], {});\n",
              "        if (!dataTable) return;\n",
              "\n",
              "        const docLinkHtml = 'Like what you see? Visit the ' +\n",
              "          '<a target=\"_blank\" href=https://colab.research.google.com/notebooks/data_table.ipynb>data table notebook</a>'\n",
              "          + ' to learn more about interactive tables.';\n",
              "        element.innerHTML = '';\n",
              "        dataTable['output_type'] = 'display_data';\n",
              "        await google.colab.output.renderOutput(dataTable, element);\n",
              "        const docLink = document.createElement('div');\n",
              "        docLink.innerHTML = docLinkHtml;\n",
              "        element.appendChild(docLink);\n",
              "      }\n",
              "    </script>\n",
              "  </div>\n",
              "\n",
              "\n",
              "<div id=\"df-0ca21f2a-e3d3-4687-b891-15e945faa0e5\">\n",
              "  <button class=\"colab-df-quickchart\" onclick=\"quickchart('df-0ca21f2a-e3d3-4687-b891-15e945faa0e5')\"\n",
              "            title=\"Suggest charts.\"\n",
              "            style=\"display:none;\">\n",
              "\n",
              "<svg xmlns=\"http://www.w3.org/2000/svg\" height=\"24px\"viewBox=\"0 0 24 24\"\n",
              "     width=\"24px\">\n",
              "    <g>\n",
              "        <path d=\"M19 3H5c-1.1 0-2 .9-2 2v14c0 1.1.9 2 2 2h14c1.1 0 2-.9 2-2V5c0-1.1-.9-2-2-2zM9 17H7v-7h2v7zm4 0h-2V7h2v10zm4 0h-2v-4h2v4z\"/>\n",
              "    </g>\n",
              "</svg>\n",
              "  </button>\n",
              "\n",
              "<style>\n",
              "  .colab-df-quickchart {\n",
              "      --bg-color: #E8F0FE;\n",
              "      --fill-color: #1967D2;\n",
              "      --hover-bg-color: #E2EBFA;\n",
              "      --hover-fill-color: #174EA6;\n",
              "      --disabled-fill-color: #AAA;\n",
              "      --disabled-bg-color: #DDD;\n",
              "  }\n",
              "\n",
              "  [theme=dark] .colab-df-quickchart {\n",
              "      --bg-color: #3B4455;\n",
              "      --fill-color: #D2E3FC;\n",
              "      --hover-bg-color: #434B5C;\n",
              "      --hover-fill-color: #FFFFFF;\n",
              "      --disabled-bg-color: #3B4455;\n",
              "      --disabled-fill-color: #666;\n",
              "  }\n",
              "\n",
              "  .colab-df-quickchart {\n",
              "    background-color: var(--bg-color);\n",
              "    border: none;\n",
              "    border-radius: 50%;\n",
              "    cursor: pointer;\n",
              "    display: none;\n",
              "    fill: var(--fill-color);\n",
              "    height: 32px;\n",
              "    padding: 0;\n",
              "    width: 32px;\n",
              "  }\n",
              "\n",
              "  .colab-df-quickchart:hover {\n",
              "    background-color: var(--hover-bg-color);\n",
              "    box-shadow: 0 1px 2px rgba(60, 64, 67, 0.3), 0 1px 3px 1px rgba(60, 64, 67, 0.15);\n",
              "    fill: var(--button-hover-fill-color);\n",
              "  }\n",
              "\n",
              "  .colab-df-quickchart-complete:disabled,\n",
              "  .colab-df-quickchart-complete:disabled:hover {\n",
              "    background-color: var(--disabled-bg-color);\n",
              "    fill: var(--disabled-fill-color);\n",
              "    box-shadow: none;\n",
              "  }\n",
              "\n",
              "  .colab-df-spinner {\n",
              "    border: 2px solid var(--fill-color);\n",
              "    border-color: transparent;\n",
              "    border-bottom-color: var(--fill-color);\n",
              "    animation:\n",
              "      spin 1s steps(1) infinite;\n",
              "  }\n",
              "\n",
              "  @keyframes spin {\n",
              "    0% {\n",
              "      border-color: transparent;\n",
              "      border-bottom-color: var(--fill-color);\n",
              "      border-left-color: var(--fill-color);\n",
              "    }\n",
              "    20% {\n",
              "      border-color: transparent;\n",
              "      border-left-color: var(--fill-color);\n",
              "      border-top-color: var(--fill-color);\n",
              "    }\n",
              "    30% {\n",
              "      border-color: transparent;\n",
              "      border-left-color: var(--fill-color);\n",
              "      border-top-color: var(--fill-color);\n",
              "      border-right-color: var(--fill-color);\n",
              "    }\n",
              "    40% {\n",
              "      border-color: transparent;\n",
              "      border-right-color: var(--fill-color);\n",
              "      border-top-color: var(--fill-color);\n",
              "    }\n",
              "    60% {\n",
              "      border-color: transparent;\n",
              "      border-right-color: var(--fill-color);\n",
              "    }\n",
              "    80% {\n",
              "      border-color: transparent;\n",
              "      border-right-color: var(--fill-color);\n",
              "      border-bottom-color: var(--fill-color);\n",
              "    }\n",
              "    90% {\n",
              "      border-color: transparent;\n",
              "      border-bottom-color: var(--fill-color);\n",
              "    }\n",
              "  }\n",
              "</style>\n",
              "\n",
              "  <script>\n",
              "    async function quickchart(key) {\n",
              "      const quickchartButtonEl =\n",
              "        document.querySelector('#' + key + ' button');\n",
              "      quickchartButtonEl.disabled = true;  // To prevent multiple clicks.\n",
              "      quickchartButtonEl.classList.add('colab-df-spinner');\n",
              "      try {\n",
              "        const charts = await google.colab.kernel.invokeFunction(\n",
              "            'suggestCharts', [key], {});\n",
              "      } catch (error) {\n",
              "        console.error('Error during call to suggestCharts:', error);\n",
              "      }\n",
              "      quickchartButtonEl.classList.remove('colab-df-spinner');\n",
              "      quickchartButtonEl.classList.add('colab-df-quickchart-complete');\n",
              "    }\n",
              "    (() => {\n",
              "      let quickchartButtonEl =\n",
              "        document.querySelector('#df-0ca21f2a-e3d3-4687-b891-15e945faa0e5 button');\n",
              "      quickchartButtonEl.style.display =\n",
              "        google.colab.kernel.accessAllowed ? 'block' : 'none';\n",
              "    })();\n",
              "  </script>\n",
              "</div>\n",
              "    </div>\n",
              "  </div>\n"
            ]
          },
          "metadata": {},
          "execution_count": 343
        }
      ],
      "source": [
        "import random\n",
        "import pandas as pd\n",
        "import numpy as np\n",
        "\n",
        "df = pd.read_csv(\"/content/titanic.csv\")\n",
        "df.head()"
      ]
    },
    {
      "cell_type": "markdown",
      "source": [
        "The datast consists of simple attributes for each passenger like their age, sex, social class, # of family members, and where they embarked. The objective is to predict whether a passenger survived the titanic crash or not, where 1 denotes that the passenger survived and 0 denotes that they perished."
      ],
      "metadata": {
        "id": "kedoHS2Fcyy0"
      }
    },
    {
      "cell_type": "code",
      "source": [
        "## handling missing values\n",
        "df.loc[df['Age'].isnull(),'Age'] = np.round(df['Age'].mean())\n",
        "df.loc[df['Embarked'].isnull(), 'Embarked'] = df['Embarked'].value_counts().index[0]"
      ],
      "metadata": {
        "id": "Yed37rPOcu3Y"
      },
      "execution_count": null,
      "outputs": []
    },
    {
      "cell_type": "code",
      "source": [
        "df.drop('Cabin', axis=1, inplace=True)"
      ],
      "metadata": {
        "id": "4_sTIyqNEtq_"
      },
      "execution_count": null,
      "outputs": []
    },
    {
      "cell_type": "markdown",
      "source": [
        "In this implementation I'll use 7 features: Pclass, Sex, Age, SibSp, Parch, Fare, Embarked"
      ],
      "metadata": {
        "id": "3mOK1PyZdh7D"
      }
    },
    {
      "cell_type": "code",
      "source": [
        "df.drop(['Name', 'Ticket','PassengerId'], axis=1, inplace=True)"
      ],
      "metadata": {
        "id": "T2E0-JkWdxsm"
      },
      "execution_count": null,
      "outputs": []
    },
    {
      "cell_type": "code",
      "source": [
        "## Splitting the dataset\n",
        "from sklearn.model_selection import train_test_split\n",
        "\n",
        "X = df.drop('Survived',axis=1)\n",
        "y = df['Survived']\n",
        "\n",
        "X_train, X_test, y_train, y_test = train_test_split(X,y, test_size=0.2, random_state=217)"
      ],
      "metadata": {
        "id": "lS02LLZYdZdE"
      },
      "execution_count": null,
      "outputs": []
    },
    {
      "cell_type": "markdown",
      "source": [
        "Let's first define **Entropy** and **Information Gain** which will help us in finding the best split point"
      ],
      "metadata": {
        "id": "8bCWIP4let5K"
      }
    },
    {
      "cell_type": "code",
      "source": [
        "def entropy(p):\n",
        "  if p==0:\n",
        "    return 0\n",
        "  elif p==1:\n",
        "    return 0\n",
        "  else:\n",
        "    return - (p * np.log2(p) + (1-p) * np.log2(1-p))\n",
        "\n",
        "def information_gain(left_child, right_child):\n",
        "  parent = left_child + right_child\n",
        "\n",
        "  p_parent = parent.count(1)/len(parent) if len(parent)>0 else 0\n",
        "  p_left = left_child.count(1)/len(left_child) if len(left_child)>0 else 0\n",
        "  p_right = right_child.count(1)/len(right_child) if len(right_child)>0 else 0\n",
        "\n",
        "  entropy_parent = entropy(p_parent)\n",
        "  entropy_left = entropy(p_left)\n",
        "  entropy_right = entropy(p_right)\n",
        "\n",
        "  IG = entropy_parent - len(left_child)/len(parent)*entropy_left - len(right_child)/len(parent)*entropy_right\n",
        "\n",
        "  return IG"
      ],
      "metadata": {
        "id": "juk41RKOdaT0"
      },
      "execution_count": null,
      "outputs": []
    },
    {
      "cell_type": "markdown",
      "source": [
        "Lets also define a **draw_bootstrap** function that can take in the training input X in the form of a dataframe and also the output y in the form of an array. We'll have it return the bootstrap sampled Xboot and yboot that we'll use to construct a tree.\n",
        "\n",
        "We'll also return the **out-of-bag** observations that were left out for training which we'll call **X_oob** and **y_oob**. At each new iteration we'll use the OOB samples to evaluate the performance of the tree built with the bootstrapped data."
      ],
      "metadata": {
        "id": "2Kd5N0dRhiZr"
      }
    },
    {
      "cell_type": "code",
      "source": [
        "def draw_bootstrap(X_train, y_train):\n",
        "  bootstrap_indices = list(np.random.choice(range(len(X_train)), len(X_train), replace=True))\n",
        "  oob_indices = [i for i in range (len(X_train)) if i not in bootstrap_indices]\n",
        "\n",
        "  X_bootstrap = X_train.iloc[bootstrap_indices].values\n",
        "  y_bootstrap = y_train.iloc[bootstrap_indices]\n",
        "  X_oob = X_train.iloc[oob_indices].values\n",
        "  y_oob = y_train.iloc[oob_indices]\n",
        "\n",
        "  return X_bootstrap, y_bootstrap, X_oob, y_oob\n",
        "\n",
        "def oob_score(tree, X_test, y_test):\n",
        "  mis_label = 0\n",
        "  for i in range (len(X_test)):\n",
        "    pred = predict_tree(tree, X_test[i])\n",
        "    if pred != y_test[i]:\n",
        "      mis_label += 1\n",
        "\n",
        "  return mis_label/len(X_test)\n"
      ],
      "metadata": {
        "id": "zAwRIOR6hhzt"
      },
      "execution_count": null,
      "outputs": []
    },
    {
      "cell_type": "markdown",
      "source": [
        "Next we'll define find_split_point which does the following:\n",
        "\n",
        "1] select m features at random\n",
        "\n",
        "2] for each feature selected, iterate through each value in the bootstrapped dataset and compute the information gain\n",
        "\n",
        "3] Return a dictionary from the value that gives the highest information gain, which will represent a node in our tree consisting of:\n",
        "\n",
        "(int) the feature index\n",
        "\n",
        "(int) the value to split at\n",
        "\n",
        "(dictionary) left child node\n",
        "\n",
        "(dictionary) right child node"
      ],
      "metadata": {
        "id": "LS2LhLK1OjbS"
      }
    },
    {
      "cell_type": "code",
      "source": [
        "def find_split_point(X_bootstrap, y_bootstrap, max_features):\n",
        "  feature_lst = []\n",
        "  num_features = len(X_bootstrap[0])\n",
        "  X_bootstrap = np.array(X_bootstrap)\n",
        "\n",
        "  while len(feature_lst) != max_features:\n",
        "    feature_index = random.sample(range(num_features),1)\n",
        "    if feature_index not in feature_lst:\n",
        "      feature_lst.extend(feature_index)\n",
        "\n",
        "  best_info_gain = -999\n",
        "  node = None\n",
        "\n",
        "  for feature_idx in feature_lst:\n",
        "    for split_point in X_bootstrap[:, feature_idx]:\n",
        "      left_child = {\"X_bootstrap\": [], \"y_bootstrap\": []}\n",
        "      right_child = {\"X_bootstrap\": [], \"y_bootstrap\": []}\n",
        "\n",
        "      # spliting child node for continuous variable\n",
        "      if type(split_point) in [int, float]:\n",
        "        for i, value in enumerate(X_bootstrap[:, feature_idx]):\n",
        "          if value <= split_point:\n",
        "            left_child['X_bootstrap'].append(X_bootstrap[i])\n",
        "            left_child['y_bootstrap'].append(y_bootstrap[i])\n",
        "          else:\n",
        "            right_child['X_bootstrap'].append(X_bootstrap[i])\n",
        "            right_child['y_bootstrap'].append(y_bootstrap[i])\n",
        "\n",
        "      # splitting child node for categorical variable\n",
        "      else:\n",
        "        for i, value in enumerate(X_bootstrap[:, feature_idx]):\n",
        "          if value == split_point:\n",
        "            left_child['X_bootstrap'].append(X_bootstrap[i])\n",
        "            left_child['y_bootstrap'].append(y_bootstrap[i])\n",
        "          else:\n",
        "            right_child['X_bootstrap'].append(X_bootstrap[i])\n",
        "            right_child['y_bootstrap'].append(y_bootstrap[i])\n",
        "\n",
        "      split_IG = information_gain(left_child['y_bootstrap'], right_child['y_bootstrap'])\n",
        "\n",
        "      if split_IG > best_info_gain:\n",
        "        best_info_gain = split_IG\n",
        "        left_child['X_bootstrap'] = np.array(left_child['X_bootstrap'])\n",
        "        right_child['y_bootstrap'] = np.array(right_child['y_bootstrap'])\n",
        "        node = {'information_gain': split_IG,\n",
        "                'left_child': left_child,\n",
        "                'right_child': right_child,\n",
        "                'split_point': split_point,\n",
        "                'feature_index': feature_idx}\n",
        "\n",
        "    return node"
      ],
      "metadata": {
        "id": "2kWOqeiMhTij"
      },
      "execution_count": null,
      "outputs": []
    },
    {
      "cell_type": "markdown",
      "source": [
        "a terminal node (classifies whether the passenger survives or perishes)."
      ],
      "metadata": {
        "id": "fkVX1h6Hl3rD"
      }
    },
    {
      "cell_type": "code",
      "source": [
        "def terminal_node(node):\n",
        "  y_bootstrap = list(node['y_bootstrap'])\n",
        "  prediction = max(y_bootstrap, key = y_bootstrap.count)\n",
        "  return prediction"
      ],
      "metadata": {
        "id": "SVDU8Zg6PcP1"
      },
      "execution_count": null,
      "outputs": []
    },
    {
      "cell_type": "markdown",
      "source": [
        "We'll next need a function that decides when to stop splitting nodes in a tree and finally output a terminal node. On a single tree split_node works as follows:"
      ],
      "metadata": {
        "id": "mMKA4UvSmJAR"
      }
    },
    {
      "cell_type": "code",
      "source": [
        "def split_node(node,  max_features, min_sample_split, max_depth, depth):\n",
        "  left_child = node['left_child']\n",
        "  right_child = node['right_child']\n",
        "\n",
        "  del(node['left_child'])\n",
        "  del(node['right_child'])\n",
        "\n",
        "  # 1] Check if either children has 0 observations in them. If one of the children is entirely empty this ultimately means that the best split in the data for that node was unable to differentiate the 2 classes and its best to call terminal_node and return the tree. terminal_node returns the class with the highest counts at the current node.\n",
        "  if len(left_child['y_bootstrap'])==0 or len(right_child['y_bootstrap'])==0:\n",
        "    if len(left_child['y_bootstrap'])!=0:\n",
        "      empty_node = {'y_bootstrap': left_child['y_bootstrap']}\n",
        "    else:\n",
        "      empty_node = {'y_bootstrap': right_child['y_bootstrap']}\n",
        "\n",
        "    node['left_split'] = terminal_node(empty_node)\n",
        "    node['right_split'] = terminal_node(empty_node)\n",
        "    return node\n",
        "\n",
        "  # 2] Check if the current depth of the tree has reached the maximum depth. If so, create a terminal node and return the tree\n",
        "  if depth >= max_depth:\n",
        "    node['left_split'] = terminal_node(left_child)\n",
        "    node['right_split'] = terminal_node(right_child)\n",
        "    return node\n",
        "\n",
        "  # 3] Check if number of observations in the left child at the current node is less than the minimum samples needed to make a split, which will be stored as min_samples_split. If so create a terminal node and return the tree\n",
        "  # 4] Check if number of observations in the left child at the current node is less than the minimum samples needed to make a split, which will be stored as min_samples_split. If so create a terminal node and return the tree\n",
        "  if len(left_child['y_bootstrap']) <= min_sample_split:\n",
        "    node['left_split'] = node['right_split'] = terminal_node(left_child)\n",
        "  else:\n",
        "    node['left_split'] = find_split_point(left_child[\"X_bootstrap\"], left_child[\"y_bootstrap\"], max_features)\n",
        "    split_node(node['left_split'], max_features, min_sample_split, max_depth, depth+1)\n",
        "\n",
        "  # 5] Repeat step 3 and 4 for right child\n",
        "  if len(right_child['y_bootstrap']) <= min_sample_split:\n",
        "    node['right_split'] = node['left_split'] = terminal_node(right_child)\n",
        "  else:\n",
        "    node['right_split'] = find_split_point(right_child['X_bootstrap'], right_child['y_bootstrap'], max_features)\n",
        "    split_node(node['right_split'], max_features, min_sample_split, max_depth, depth+1)\n"
      ],
      "metadata": {
        "id": "5JRgGUhkmIcM"
      },
      "execution_count": null,
      "outputs": []
    },
    {
      "cell_type": "markdown",
      "source": [
        "## **Parameters**\n",
        "There are others parameters to consider when building a random forest, but these 4 will be the only ones we'll focus on.\n",
        "\n",
        "1] n_estimators: (int) The number of trees in the forest.\n",
        "\n",
        "2] max_features: (int) The number of features to consider when looking for the best split (typically (√p)\n",
        "\n",
        "3] max_depth: (int) The maximum depth of the tree\n",
        "\n",
        "4] min_samples_split: (int) The minimum number of samples required to split an internal node\n",
        "\n",
        "## **Model Building**\n",
        " We first call **find_split_point** to create the very first split in our tree which we'll call *root_node*. Once we have a root node we can feed it into **split_node** which will recusively split each internal node until each branch has a terminal node.\n",
        "\n",
        "Now that we can build a single tree we can finally build our random forest which will just be a collection of these trees.\n",
        "\n",
        "When we call **random_forest** we'll need to specify n_estimators, max_features, max_depth, min_samples_split."
      ],
      "metadata": {
        "id": "yVVovxgsunWG"
      }
    },
    {
      "cell_type": "code",
      "source": [
        "def build_tree(X_bootstrap, y_bootstrap, max_depth, min_sample_split, max_features):\n",
        "  root_node = find_split_point(X_bootstrap, y_bootstrap, max_features)\n",
        "  split_node(root_node, max_features, min_sample_split, max_depth, 1)\n",
        "  return root_node\n",
        "\n",
        "def random_forest(X_train, y_train, n_estimators, max_features, max_depth, min_sample_split):\n",
        "  tree_list = []  # all the trees dictionaries will be stored here\n",
        "  oob_list = []   # oob error scores will be stored here\n",
        "\n",
        "  for i in range (n_estimators):\n",
        "    X_bootstrap, y_bootstrap, X_oob, y_oob = draw_bootstrap(X_train, y_train)\n",
        "    y_bootstrap = np.array(y_bootstrap)\n",
        "    y_oob = np.array(y_oob)\n",
        "\n",
        "\n",
        "    tree = build_tree(X_bootstrap, y_bootstrap, max_depth, min_sample_split, max_features)\n",
        "    tree_list.append(tree)\n",
        "\n",
        "    oob_error = oob_score(tree, X_oob, y_oob)\n",
        "    oob_list.append(oob_error)\n",
        "\n",
        "  print(f\"OOB estimate: {np.mean(oob_list)}\")\n",
        "  return tree_list\n",
        "\n"
      ],
      "metadata": {
        "id": "IWsyPBX1xsfp"
      },
      "execution_count": null,
      "outputs": []
    },
    {
      "cell_type": "markdown",
      "source": [
        "Given a input vector xi we can predict its class given a single tree with **predict_tree**. As a single tree consists of nested dictionaries which each represent a node we can let our xi flow through a tree by constantly checking if the split we're at contains another dictionary (node). Once we reach a left_split or right_split that does not contain any dictionary we've reached the terminal node and we can return the class."
      ],
      "metadata": {
        "id": "6QLnLQvv3J1s"
      }
    },
    {
      "cell_type": "code",
      "source": [
        "def predict_tree(tree, X_test):\n",
        "  feature = tree['feature_index']\n",
        "\n",
        "  if X_test[feature] <= tree['split_point']:\n",
        "    if type(tree['left_split']) == dict:\n",
        "      return predict_tree(tree['left_split'], X_test)\n",
        "    else:\n",
        "      value = tree['left_split']\n",
        "      return value\n",
        "\n",
        "  else:\n",
        "    if type(tree['right_split']) == dict:\n",
        "      return predict_tree(tree['right_split'], X_test)\n",
        "    else:\n",
        "      value = tree['right_split']\n",
        "      return value"
      ],
      "metadata": {
        "id": "Fy1DcDE5unGE"
      },
      "execution_count": null,
      "outputs": []
    },
    {
      "cell_type": "markdown",
      "source": [
        "We'll repeat the above process for an input xi for all the trees in our ensemble and whichever class was returned more frequently will be the class predicted from our model."
      ],
      "metadata": {
        "id": "1BmStRTg50WV"
      }
    },
    {
      "cell_type": "code",
      "source": [
        "def predict(tree_list, X_test):\n",
        "  pred_list = []\n",
        "\n",
        "  for i in range (len(X_test)):\n",
        "    for tree in tree_list:\n",
        "      ensemble_preds = [predict_tree(tree, X_test.values[i])]\n",
        "      final_pred = max(ensemble_preds, key = ensemble_preds.count)\n",
        "    pred_list.append(final_pred)\n",
        "\n",
        "  return np.array(pred_list)"
      ],
      "metadata": {
        "id": "_A4DrpXElvBz"
      },
      "execution_count": null,
      "outputs": []
    },
    {
      "cell_type": "markdown",
      "source": [
        "Now that we have our model built we can fit it to our training data with **random_forest** and predict on our training data"
      ],
      "metadata": {
        "id": "O3vrM1379E0Y"
      }
    },
    {
      "cell_type": "code",
      "source": [
        "model = random_forest(X_train, y_train, n_estimators=100, max_features=3, max_depth=10, min_sample_split=2)"
      ],
      "metadata": {
        "colab": {
          "base_uri": "https://localhost:8080/"
        },
        "id": "35HF8SJI8-i7",
        "outputId": "0388f436-3d85-4daf-d897-959de62e6be3"
      },
      "execution_count": null,
      "outputs": [
        {
          "output_type": "stream",
          "name": "stdout",
          "text": [
            "OOB estimate: 0.3336712305177697\n"
          ]
        }
      ]
    },
    {
      "cell_type": "code",
      "source": [
        "predictions = predict(model, X_test)\n",
        "accuracy = sum(predictions == y_test) / len(y_test)\n",
        "print(accuracy)"
      ],
      "metadata": {
        "id": "Yg7rNPMlHgru",
        "colab": {
          "base_uri": "https://localhost:8080/"
        },
        "outputId": "92e2ac96-069e-4b41-82da-621dce5e519c"
      },
      "execution_count": null,
      "outputs": [
        {
          "output_type": "stream",
          "name": "stdout",
          "text": [
            "0.6201117318435754\n"
          ]
        }
      ]
    },
    {
      "cell_type": "code",
      "source": [],
      "metadata": {
        "id": "8XCgOfog7Tvn"
      },
      "execution_count": null,
      "outputs": []
    }
  ]
}